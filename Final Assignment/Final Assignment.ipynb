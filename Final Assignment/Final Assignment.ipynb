{
 "cells": [
  {
   "cell_type": "markdown",
   "metadata": {},
   "source": [
    "# Project Group 2\n",
    "\n",
    "Members: Sten Heijink, Titus Kraanen, Bart Szarszewski, Michel van Tooren and David Vlot\n",
    "\n",
    "Student numbers: 5401895, 5826853, 4860802, 5654521, 5632145"
   ]
  },
  {
   "cell_type": "markdown",
   "metadata": {},
   "source": [
    "# Research Objective\n",
    "\n",
    "*Requires data modeling and quantitative research in Transport, Infrastructure & Logistics*\n",
    "\n",
    "How did the maximum amount flight per Dutch Airport set by the government influences the air traffic at each airport over the last ten years?\n",
    "- What is the amount of flights operated for each aiport?\n",
    "  * What is the ratio between the different aiports in The Netherlands?\n",
    "  * To what extent do these numbers increase or decrease for each airport?\n",
    "  * Which explanations can be found for certain in- or decreased values?\n",
    "- To which continents or European destinations do the flights from the Dutch aiports go to?\n",
    "  * Which explanations can be found for certain in- or decreased values?\n",
    "- What are the effects of in- or decreased maximum amount of flights on the number of passengers?\n",
    "- What are the effects of operational disruptions at Schiphol Airport that occured between april 2022 and august 2022?\n",
    "- What are the effects of in- or decreased maximum amount of flights on the CO2-emissions?"
   ]
  },
  {
   "cell_type": "markdown",
   "metadata": {},
   "source": []
  },
  {
   "cell_type": "markdown",
   "metadata": {},
   "source": [
    "# Contribution Statement\n",
    "\n",
    "*Be specific. Some of the tasks can be coding (expect everyone to do this), background research, conceptualisation, visualisation, data analysis, data modelling*"
   ]
  },
  {
   "cell_type": "markdown",
   "metadata": {},
   "source": [
    "Will be filled in at the end of the project."
   ]
  },
  {
   "cell_type": "markdown",
   "metadata": {},
   "source": [
    "# Data Used"
   ]
  },
  {
   "cell_type": "markdown",
   "metadata": {},
   "source": [
    "- CBS, monthly figures of Dutch Airports: https://opendata.cbs.nl/statline/portal.html?_la=en&_catalog=CBS&tableId=37478eng&_theme=1157\n",
    "- CBS, CO2-emissions: https://opendata.cbs.nl/statline/#/CBS/nl/dataset/37221/table?fromstatweb\n",
    "- Pending approval from the organization: CAPA (Centre for aviation): data about air traffic connections, air traffic commuters and airports."
   ]
  },
  {
   "cell_type": "markdown",
   "metadata": {},
   "source": [
    "# Data Pipeline"
   ]
  },
  {
   "cell_type": "markdown",
   "metadata": {},
   "source": [
    "Currently we do not understand what 'data pipelines' means?"
   ]
  }
 ],
 "metadata": {
  "kernelspec": {
   "display_name": "Python 3 (ipykernel)",
   "language": "python",
   "name": "python3"
  },
  "language_info": {
   "codemirror_mode": {
    "name": "ipython",
    "version": 3
   },
   "file_extension": ".py",
   "mimetype": "text/x-python",
   "name": "python",
   "nbconvert_exporter": "python",
   "pygments_lexer": "ipython3",
   "version": "3.9.12"
  },
  "vscode": {
   "interpreter": {
    "hash": "31f2aee4e71d21fbe5cf8b01ff0e069b9275f58929596ceb00d14d90e3e16cd6"
   }
  }
 },
 "nbformat": 4,
 "nbformat_minor": 2
}
