{
 "cells": [
  {
   "cell_type": "markdown",
   "metadata": {},
   "source": [
    "# Submission\n",
    "For this assignment, you need to\n",
    "- submit the screenshot for the final question to the Lab assignment 7 in Brightspace.\n",
    "- submit the link to *your branch* to the Lab assignment 5b in Brightspace. (You will know what *your branch* is later in this lab assingment.)"
   ]
  },
  {
   "cell_type": "markdown",
   "metadata": {},
   "source": [
    "# Install Git\n",
    "\n",
    "Follow instructions from this [link](https://git-scm.com/book/en/v2/Getting-Started-Installing-Git) to install Git.  \n",
    "**Important note**: (For Windows users), if asked during the installation, select the option that add git to the PATH environment so that you can use it from the command prompt."
   ]
  },
  {
   "cell_type": "markdown",
   "metadata": {},
   "source": [
    "In this lab assignment, you will be practicing fundamental git commands. For extensive usage of git, a graphical user interface (GUI) could be convenient. [Source](https://git-scm.com/downloads/guis/) is here. Note that, we will not be using any GUI today.  \n",
    "\n",
    "Quick reference to git commands can be found from a cheatsheet. An example is from [this link](https://dev.to/doabledanny/git-cheat-sheet-50-commands-free-pdf-and-poster-4gcn)"
   ]
  },
  {
   "cell_type": "markdown",
   "metadata": {},
   "source": [
    "# Setup your Github account"
   ]
  },
  {
   "cell_type": "markdown",
   "metadata": {},
   "source": [
    "You should by now have an account on Github. If not, please follow the instructions provided in brightspace."
   ]
  },
  {
   "cell_type": "markdown",
   "metadata": {},
   "source": [
    "# PART 1 - WORK AS A GROUP"
   ]
  },
  {
   "cell_type": "markdown",
   "metadata": {},
   "source": [
    "## A Github repository for your group"
   ]
  },
  {
   "cell_type": "markdown",
   "metadata": {},
   "source": [
    "For your group, pick an account (amongst yours), and create a repository named `TIL6010-LabAssignments`.  \n",
    "For the settings, use the following:\n",
    "- Set the repository as Public.\n",
    "- Select 'Add a README file'"
   ]
  },
  {
   "cell_type": "markdown",
   "metadata": {},
   "source": [
    "## Add collaborators"
   ]
  },
  {
   "cell_type": "markdown",
   "metadata": {},
   "source": [
    "At your repository page, go to Settings. In the menu on the left, you will find Collaborators under Access. From there, invite your groupmates as collaborators for the repository  \n",
    "\n",
    "<img src=\"Access.png\" width=\"800\"/>"
   ]
  },
  {
   "cell_type": "markdown",
   "metadata": {},
   "source": [
    "The other members need to accept invitations and should have access to the repository afterwards."
   ]
  },
  {
   "cell_type": "markdown",
   "metadata": {},
   "source": [
    "## Clone the repository"
   ]
  },
  {
   "cell_type": "markdown",
   "metadata": {},
   "source": [
    "Now, go to the main page of your repository (which is the `<> Code` page). You can notice that the repository has a branch main, a README.md file.  \n",
    "Now let's clone this repository to your local computer.  Navigate to the `Code` button (highlighted in green) and click on that.  \n",
    "\n",
    "<img src=\"Clone.png\" width=\"500\"/>"
   ]
  },
  {
   "cell_type": "markdown",
   "metadata": {},
   "source": [
    "You will be provided with 3 different ways to clone a repository. Copy the link under HTTPS.  \n",
    "Now, open you terminal, change directory to location (in your computer) where you want to store the repository. (Use the `cd` command).  \n",
    "Clone the repository using the git clone command. Here is an example\n",
    "\n",
    "`git clone https://github.com/nguyenthientin/TIL6022-LabAssignments.git`"
   ]
  },
  {
   "cell_type": "markdown",
   "metadata": {},
   "source": [
    "If successful, you will have the folder TIL6022-LabAssignments created. Inside, there should be a README.md file."
   ]
  },
  {
   "cell_type": "markdown",
   "metadata": {},
   "source": [
    "## Your first commit\n"
   ]
  },
  {
   "cell_type": "markdown",
   "metadata": {},
   "source": [
    "Now, pick one member of the group, \n",
    "- Open the README.md file, add some text (whatever you like), save and close the file.  \n",
    "- Create a folder named `Lab5`. Then create a file `lab5.txt` under this folder."
   ]
  },
  {
   "cell_type": "markdown",
   "metadata": {},
   "source": [
    "### Question 1: What is the current status of the repository?  A screenshot is sufficient enough.\n",
    "*Use `git status`*"
   ]
  },
  {
   "cell_type": "markdown",
   "metadata": {},
   "source": [
    "### Question 2: Commit the changes you have made to the README.md file. For this, you need 2 steps."
   ]
  },
  {
   "cell_type": "markdown",
   "metadata": {},
   "source": [
    "First, stage the file using `git add`. Observe the status of the repository afterwards.  \n",
    "\n",
    "For example, to stage the file README.md: `git add README.md`.  \n",
    "If you want to add all files, use `git add .`"
   ]
  },
  {
   "cell_type": "markdown",
   "metadata": {},
   "source": [
    "Second, commit the changes using `git commit`. Observe the status of the repository afterwards.  \n",
    "Usage as `git commit -m \"message\"`. A good `message` should describe the changes well.  \n",
    "An example: `git commit -m \"updated README.md\"`"
   ]
  },
  {
   "cell_type": "markdown",
   "metadata": {},
   "source": [
    "### Question 3: Show the commit tree of the repository. Take a screenshot of the output\n",
    "*Use `git log`*"
   ]
  },
  {
   "cell_type": "markdown",
   "metadata": {},
   "source": [
    "If you have not commit `lab5.txt`, please do so with similar steps."
   ]
  },
  {
   "cell_type": "markdown",
   "metadata": {},
   "source": [
    "## Update local changes to remote repository"
   ]
  },
  {
   "cell_type": "markdown",
   "metadata": {},
   "source": [
    "### Question 4: At the moment, do the local repository and the remote repository have the same content? (i.e. are the two README.md files the same?)"
   ]
  },
  {
   "cell_type": "markdown",
   "metadata": {},
   "source": [
    "Before syncing any local changes, it's good practice to check if there are changes made to the remote repository. (We know that there has not been any for our case).  \n",
    "Run `git pull` to pull changes from the remote repository.  \n",
    "Then run `git push` to push local changes to the remote repository."
   ]
  },
  {
   "cell_type": "markdown",
   "metadata": {},
   "source": [
    "## Authentication error"
   ]
  },
  {
   "cell_type": "markdown",
   "metadata": {},
   "source": [
    "When running `git push` for the first time, you might be asked to enter username and password of your Github account.  \n",
    "In the newest policy of Github, account password cannot be used here. One alternative option is to create a Personal Access Token.  \n",
    "You can follow the [instruction](https://docs.github.com/en/authentication/keeping-your-account-and-data-secure/creating-a-personal-access-token) from Github official document to generate one token.  \n",
    "Afterwards, you should be able to push your code."
   ]
  },
  {
   "cell_type": "markdown",
   "metadata": {},
   "source": [
    "Now, other member of your groups can pull the update from the remote repository."
   ]
  },
  {
   "cell_type": "markdown",
   "metadata": {},
   "source": [
    "# PART 2 - WORK INDIVIDUALLY"
   ]
  },
  {
   "cell_type": "markdown",
   "metadata": {},
   "source": [
    "## Branch"
   ]
  },
  {
   "cell_type": "markdown",
   "metadata": {},
   "source": [
    "For each member, create a new branch `yourname_lab5`. Change `yourname` according to your name.  \n",
    "Usage `git checkout -b branchname`.  \n",
    "Option `-b` will create a branch if it does not exist.  \n",
    "Example: `git checkout -b Peter_lab5`"
   ]
  },
  {
   "cell_type": "markdown",
   "metadata": {},
   "source": [
    "Run git status to see if you are in the new branch"
   ]
  },
  {
   "cell_type": "markdown",
   "metadata": {},
   "source": [
    "### Question 5: Add and commit your work on Lab assignment 5 to the repository\n",
    "- Create a folder under the `Lab5` folder. Name it as your student id.\n",
    "- Put your Lab5 solutions (including all .ipynb, .html files) under the folder.\n",
    "- Commit the changes"
   ]
  },
  {
   "cell_type": "markdown",
   "metadata": {},
   "source": [
    "Run git log and observe the git tree"
   ]
  },
  {
   "cell_type": "markdown",
   "metadata": {},
   "source": [
    "### Question 6: Push your branch to the remote repository"
   ]
  },
  {
   "cell_type": "markdown",
   "metadata": {},
   "source": [
    "### Question 7: Merge your branch with the main branch.\n",
    "- Checkout to the `main` branch\n",
    "- Merge your lab5 branch with the main branch\n",
    "- Run git log to observe changes in the git tree"
   ]
  },
  {
   "cell_type": "markdown",
   "metadata": {},
   "source": [
    "### Question 8: Push your Lab 5 to the remote repository. "
   ]
  },
  {
   "cell_type": "markdown",
   "metadata": {},
   "source": [
    "### Final question: Run git log, take a screenshot, and put it below this cell"
   ]
  },
  {
   "cell_type": "markdown",
   "metadata": {},
   "source": [
    "# **Try to recreate similar repository for your project**"
   ]
  }
 ],
 "metadata": {
  "kernelspec": {
   "display_name": "Python 3 (ipykernel)",
   "language": "python",
   "name": "python3"
  },
  "language_info": {
   "codemirror_mode": {
    "name": "ipython",
    "version": 3
   },
   "file_extension": ".py",
   "mimetype": "text/x-python",
   "name": "python",
   "nbconvert_exporter": "python",
   "pygments_lexer": "ipython3",
   "version": "3.7.13"
  },
  "vscode": {
   "interpreter": {
    "hash": "aee8b7b246df8f9039afb4144a1f6fd8d2ca17a180786b69acc140d282b71a49"
   }
  }
 },
 "nbformat": 4,
 "nbformat_minor": 2
}
